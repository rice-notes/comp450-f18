{
 "cells": [
  {
   "cell_type": "markdown",
   "metadata": {},
   "source": [
    "# Kinematics\n",
    "\n",
    "Here we look at the relationship between the configuration and\n",
    "workspaces of a system.  There are two types of kinematics we're\n",
    "interested in:  \n",
    "* forward kinematics: postion of end effector given configuration point\n",
    "* inverse kinematics: configuration point given position of end effector"
   ]
  },
  {
   "cell_type": "code",
   "execution_count": 1,
   "metadata": {},
   "outputs": [],
   "source": [
    "import numpy as np\n",
    "import matplotlib.pyplot as plt\n",
    "\n",
    "%matplotlib widget"
   ]
  },
  {
   "cell_type": "code",
   "execution_count": 2,
   "metadata": {},
   "outputs": [],
   "source": [
    "plt.rcParams[\"figure.figsize\"] = 10, 6\n",
    "plt.rcParams[\"figure.dpi\"] = 150\n",
    "plt.rcParams[\"text.usetex\"] = True"
   ]
  },
  {
   "cell_type": "code",
   "execution_count": 3,
   "metadata": {},
   "outputs": [],
   "source": [
    "from ipywidgets import interact, interactive, fixed, interact_manual\n",
    "import ipywidgets as widgets"
   ]
  },
  {
   "cell_type": "code",
   "execution_count": 4,
   "metadata": {},
   "outputs": [],
   "source": [
    "def get_rotation_matrix(angle):\n",
    "    rad = np.deg2rad(angle)\n",
    "    return np.array([[np.cos(rad), -np.sin(rad)], [np.sin(rad), np.cos(rad)]])\n",
    "\n",
    "def get_pivot_matrix(angle, pt):\n",
    "    \"\"\"\n",
    "    Rotates {point} {angle} degrees around the point (x, 0).\n",
    "    \"\"\"\n",
    "    \n",
    "    rot = np.zeros((3, 3))\n",
    "    rad = np.deg2rad(angle)\n",
    "    \n",
    "    rot_matrix = get_rotation_matrix(angle)\n",
    "    rot[:2, :2] = rot_matrix\n",
    "    rot[:2, 2] = -(rot_matrix @ pt) + pt\n",
    "    \n",
    "    return rot"
   ]
  },
  {
   "cell_type": "markdown",
   "metadata": {},
   "source": [
    "## Planar Manipulator\n",
    "\n",
    "![planar manipulator](./planar-manipulator.png)"
   ]
  },
  {
   "cell_type": "code",
   "execution_count": 5,
   "metadata": {},
   "outputs": [
    {
     "data": {
      "application/vnd.jupyter.widget-view+json": {
       "model_id": "828529cc792f4685a0fa03f2c78e37b2",
       "version_major": 2,
       "version_minor": 0
      },
      "text/plain": [
       "interactive(children=(IntSlider(value=10, description='theta1', max=45, step=5), IntSlider(value=10, descripti…"
      ]
     },
     "metadata": {},
     "output_type": "display_data"
    }
   ],
   "source": [
    "@interact(theta1=(0,45,5), theta2=(0,45,5), theta3=(0,45,5))\n",
    "def plot_planar_manipulator(theta1=10, theta2=10, theta3=10):\n",
    "    \"\"\"\n",
    "    Plots a 3 arm planar manipulator.\n",
    "    \"\"\"\n",
    "    \n",
    "    pt_color = \"red\"\n",
    "    arm_color = \"black\"\n",
    "    \n",
    "    arms=[1, 1, 1] \n",
    "    points = [np.zeros(3)]\n",
    "    for arm in range(1, 4):\n",
    "        point = np.array([sum(arms[:arm]), 0 , 1])\n",
    "        for angle, pivotx in list(zip([theta1, theta2 / 2, theta3 / 3], [0, sum(arms[1:2]), sum(arms[:2])]))[:arm]:\n",
    "            point = get_pivot_matrix(angle, np.array([pivotx, 0])) @ point\n",
    "        plt.scatter(point[0], point[1], c=pt_color)\n",
    "        points.append(point)\n",
    "        \n",
    "    plt.xlim((0, 3))\n",
    "    plt.ylim((0, 3))\n",
    "    \n",
    "    for pt in range(3):\n",
    "        plt.plot([points[pt][0], points[(pt+1)][0]], [points[pt][1], points[(pt+1)][1]], c=arm_color)"
   ]
  },
  {
   "cell_type": "code",
   "execution_count": null,
   "metadata": {},
   "outputs": [],
   "source": []
  }
 ],
 "metadata": {
  "kernelspec": {
   "display_name": "ml3.6",
   "language": "python",
   "name": "ml3.6"
  },
  "language_info": {
   "codemirror_mode": {
    "name": "ipython",
    "version": 3
   },
   "file_extension": ".py",
   "mimetype": "text/x-python",
   "name": "python",
   "nbconvert_exporter": "python",
   "pygments_lexer": "ipython3",
   "version": "3.6.3"
  }
 },
 "nbformat": 4,
 "nbformat_minor": 2
}
